{
  "nbformat": 4,
  "nbformat_minor": 0,
  "metadata": {
    "colab": {
      "provenance": []
    },
    "kernelspec": {
      "name": "python3",
      "display_name": "Python 3"
    },
    "language_info": {
      "name": "python"
    }
  },
  "cells": [
    {
      "cell_type": "code",
      "execution_count": null,
      "metadata": {
        "id": "evePcF8WXpWT"
      },
      "outputs": [],
      "source": [
        "import requests\n",
        "from bs4 import BeautifulSoup\n",
        "import pandas as pd\n",
        "\n",
        "url = \"https://rever.vn/s/ho-chi-minh/mua/dat-nen?page=\"\n",
        "session = requests.Session()\n",
        "\n",
        "house_data_list = []\n",
        "\n",
        "for page in range(1, 77):\n",
        "    response = session.get(url + str(page))\n",
        "    soup = BeautifulSoup(response.content, \"html.parser\")\n",
        "    productslists = soup.select(\".col.property-itemz a.listing-price-link[href]\")\n",
        "\n",
        "    for link in productslists:\n",
        "        product_url = link['href']\n",
        "        r = session.get(product_url)\n",
        "        soup = BeautifulSoup(r.content, 'html.parser')\n",
        "\n",
        "        address = soup.select_one(\"div.address\").get_text()\n",
        "        code_update = soup.select_one(\"div.listing-id-status\").get_text()\n",
        "        price = soup.select_one(\"ul.detailroom\").get_text()\n",
        "        summary = soup.select_one(\"div.content.collapsed.pdb-0 p.summary\").get_text(strip=True)\n",
        "        amenities = soup.select_one(\"#details-amenities.content\")\n",
        "        advandate_contents = soup.find_all('div', class_='advandate-content')\n",
        "        basic_info = soup.select_one(\"ul.detail-more\")\n",
        "\n",
        "        house_data = {\n",
        "            \"address\": address,\n",
        "            \"code_update\": code_update,\n",
        "            \"price\": price,\n",
        "            \"summary_1\": summary,\n",
        "            \"amenities\": amenities,\n",
        "            \"text_advantages\": advandate_contents,\n",
        "            \"basic_info\": basic_info\n",
        "        }\n",
        "        house_data_list.append(house_data)\n",
        "\n",
        "df = pd.DataFrame(house_data_list)\n",
        "\n",
        "df.to_excel(\"D://canho_HCM.xlsx\")"
      ]
    }
  ]
}